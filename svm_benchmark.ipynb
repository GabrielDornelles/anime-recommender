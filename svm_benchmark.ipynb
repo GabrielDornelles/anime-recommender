{
 "cells": [
  {
   "cell_type": "code",
   "execution_count": 7,
   "metadata": {},
   "outputs": [
    {
     "name": "stdout",
     "output_type": "stream",
     "text": [
      "Finished training in 1.912421703338623 s\n"
     ]
    }
   ],
   "source": [
    "import numpy as np\n",
    "from sklearn import svm\n",
    "import time\n",
    "\n",
    "# Generate random data\n",
    "num_vectors = 55000\n",
    "vector_dim = 768\n",
    "x = np.random.rand(num_vectors, vector_dim)\n",
    "\n",
    "# Normalize the vectors\n",
    "x_norm = x / np.sqrt((x ** 2).sum(axis=1, keepdims=True))\n",
    "\n",
    "# Create labels\n",
    "y = np.zeros(num_vectors)\n",
    "y[0] = 1  # Set the first vector as the positive example\n",
    "\n",
    "# Train SVM\n",
    "start = time.time()\n",
    "clf = svm.LinearSVC(class_weight='balanced', verbose=False, max_iter=10000, tol=1e-6, C=1.0)\n",
    "clf.fit(x_norm, y)\n",
    "print(f\"Finished training in {time.time() - start} s\")\n",
    "# Compute similarities\n",
    "similarities = clf.decision_function(x_norm)\n",
    "\n",
    "# Find the index of the query vector (should be 1 with itself)\n",
    "sorted_ix = np.argsort(-similarities)\n"
   ]
  }
 ],
 "metadata": {
  "kernelspec": {
   "display_name": "venv",
   "language": "python",
   "name": "python3"
  },
  "language_info": {
   "codemirror_mode": {
    "name": "ipython",
    "version": 3
   },
   "file_extension": ".py",
   "mimetype": "text/x-python",
   "name": "python",
   "nbconvert_exporter": "python",
   "pygments_lexer": "ipython3",
   "version": "3.10.6"
  },
  "orig_nbformat": 4
 },
 "nbformat": 4,
 "nbformat_minor": 2
}
